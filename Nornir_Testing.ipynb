{
 "cells": [
  {
   "cell_type": "code",
   "execution_count": 122,
   "id": "compatible-jacket",
   "metadata": {},
   "outputs": [
    {
     "name": "stdout",
     "output_type": "stream",
     "text": [
      "{\n",
      "    \"name\": \"str\",\n",
      "    \"connection_options\": {\n",
      "        \"$connection_type\": {\n",
      "            \"extras\": {\n",
      "                \"$key\": \"$value\"\n",
      "            },\n",
      "            \"hostname\": \"str\",\n",
      "            \"port\": \"int\",\n",
      "            \"username\": \"str\",\n",
      "            \"password\": \"str\",\n",
      "            \"platform\": \"str\"\n",
      "        }\n",
      "    },\n",
      "    \"groups\": [\n",
      "        \"$group_name\"\n",
      "    ],\n",
      "    \"data\": {\n",
      "        \"$key\": \"$value\"\n",
      "    },\n",
      "    \"hostname\": \"str\",\n",
      "    \"port\": \"int\",\n",
      "    \"username\": \"str\",\n",
      "    \"password\": \"str\",\n",
      "    \"platform\": \"str\"\n",
      "}\u001b[0m\n",
      "\u001b[0m####All hosts seen in inventory####\u001b[0m\n",
      "\u001b[0mdict_keys(['lab-dcs-1', 'lab-dcs-2', 'lab-mlx-1', 'lab-qfx-1', 'lab-qfx-2', 'lab-vdx', 'lab-slx-1', 'lab-slx-2'])\u001b[0m\n",
      "\u001b[0m####Printing groups####\u001b[0m\n",
      "\u001b[0m{'eos': Group: eos, 'ironware': Group: ironware, 'junos': Group: junos, 'nos': Group: nos, 'slxos': Group: slxos}\u001b[0m\n",
      "\u001b[0m####Printing vlans####\u001b[0m\n",
      "\u001b[0m[{'name': 'TEST-VLAN-10', 'vlan_id': 10}, {'name': 'TEST-VLAN-15', 'vlan_id': 15}, {'name': 'TEST-VLAN-20', 'vlan_id': 20}, {'name': 'TEST-VLAN-30', 'vlan_id': 30}]\u001b[0m\n",
      "\u001b[0m"
     ]
    }
   ],
   "source": [
    "from nornir import InitNornir\n",
    "from nornir.core.inventory import Host\n",
    "import json\n",
    "\n",
    "nr = InitNornir(config_file=\"config.yaml\")\n",
    "\n",
    "# prints the schema designed for hosts file and groups file\n",
    "print(json.dumps(Host.schema(), indent=4))\n",
    "\n",
    "# prints hosts\n",
    "print(\"####All hosts seen in inventory####\")\n",
    "print(nr.inventory.hosts.keys())\n",
    "\n",
    "# prints groups\n",
    "print(\"####Printing groups####\")\n",
    "print(nr.inventory.groups)\n",
    "\n",
    "# inheritence\n",
    "lab_dcs_1 = nr.inventory.hosts['lab-dcs-1']\n",
    "\n",
    "#Printing vlans\n",
    "print(\"####Printing vlans####\")\n",
    "print(lab_dcs_1['vlans'])"
   ]
  },
  {
   "cell_type": "code",
   "execution_count": 114,
   "id": "exposed-pennsylvania",
   "metadata": {},
   "outputs": [
    {
     "ename": "KeyError",
     "evalue": "'username'",
     "output_type": "error",
     "traceback": [
      "\u001b[0;31m---------------------------------------------------------------------------\u001b[0m",
      "\u001b[0;31mKeyError\u001b[0m                                  Traceback (most recent call last)",
      "\u001b[0;32m<ipython-input-114-6448a49c7bab>\u001b[0m in \u001b[0;36m<module>\u001b[0;34m\u001b[0m\n\u001b[1;32m      1\u001b[0m \u001b[0;31m# printing username\u001b[0m\u001b[0;34m\u001b[0m\u001b[0;34m\u001b[0m\u001b[0;34m\u001b[0m\u001b[0m\n\u001b[0;32m----> 2\u001b[0;31m \u001b[0mprint\u001b[0m\u001b[0;34m(\u001b[0m\u001b[0mlab_dcs_1\u001b[0m\u001b[0;34m[\u001b[0m\u001b[0;34m'username'\u001b[0m\u001b[0;34m]\u001b[0m\u001b[0;34m)\u001b[0m\u001b[0;34m\u001b[0m\u001b[0;34m\u001b[0m\u001b[0m\n\u001b[0m",
      "\u001b[0;32m/usr/local/lib/python3.6/site-packages/nornir/core/inventory.py\u001b[0m in \u001b[0;36m__getitem__\u001b[0;34m(self, item)\u001b[0m\n\u001b[1;32m    294\u001b[0m     \u001b[0;32mdef\u001b[0m \u001b[0m__getitem__\u001b[0m\u001b[0;34m(\u001b[0m\u001b[0mself\u001b[0m\u001b[0;34m,\u001b[0m \u001b[0mitem\u001b[0m\u001b[0;34m:\u001b[0m \u001b[0mstr\u001b[0m\u001b[0;34m)\u001b[0m \u001b[0;34m->\u001b[0m \u001b[0mAny\u001b[0m\u001b[0;34m:\u001b[0m\u001b[0;34m\u001b[0m\u001b[0;34m\u001b[0m\u001b[0m\n\u001b[1;32m    295\u001b[0m         \u001b[0;32mtry\u001b[0m\u001b[0;34m:\u001b[0m\u001b[0;34m\u001b[0m\u001b[0;34m\u001b[0m\u001b[0m\n\u001b[0;32m--> 296\u001b[0;31m             \u001b[0;32mreturn\u001b[0m \u001b[0mself\u001b[0m\u001b[0;34m.\u001b[0m\u001b[0mdata\u001b[0m\u001b[0;34m[\u001b[0m\u001b[0mitem\u001b[0m\u001b[0;34m]\u001b[0m\u001b[0;34m\u001b[0m\u001b[0;34m\u001b[0m\u001b[0m\n\u001b[0m\u001b[1;32m    297\u001b[0m \u001b[0;34m\u001b[0m\u001b[0m\n\u001b[1;32m    298\u001b[0m         \u001b[0;32mexcept\u001b[0m \u001b[0mKeyError\u001b[0m\u001b[0;34m:\u001b[0m\u001b[0;34m\u001b[0m\u001b[0;34m\u001b[0m\u001b[0m\n",
      "\u001b[0;31mKeyError\u001b[0m: 'username'"
     ]
    }
   ],
   "source": [
    "# printing username\n",
    "print(lab_dcs_1)"
   ]
  },
  {
   "cell_type": "code",
   "execution_count": 92,
   "id": "conventional-airplane",
   "metadata": {},
   "outputs": [
    {
     "name": "stdout",
     "output_type": "stream",
     "text": [
      "lab-dcs-1\u001b[0m\n",
      "\u001b[0m"
     ]
    }
   ],
   "source": [
    "# printing domain from global\n",
    "print(lab_vdx_1)"
   ]
  },
  {
   "cell_type": "code",
   "execution_count": 103,
   "id": "careful-northern",
   "metadata": {},
   "outputs": [
    {
     "name": "stdout",
     "output_type": "stream",
     "text": [
      "\u001b[1m\u001b[36mhello_world*********************************************************************\u001b[0m\n",
      "\u001b[0m"
     ]
    }
   ],
   "source": [
    "from nornir.core.task import Task, Result\n",
    "from nornir_utils.plugins.functions import print_result\n",
    "\n",
    "# setting function to print hello_world\n",
    "def hello_world(task: Task) -> Result:\n",
    "    return Result(\n",
    "        host=task.host,\n",
    "        result=f\"{task.host} says hello world!\"\n",
    "    )\n",
    "result = nr.run(task=hello_world)\n",
    "\n",
    "print_result(result)"
   ]
  },
  {
   "cell_type": "code",
   "execution_count": 105,
   "id": "drawn-category",
   "metadata": {},
   "outputs": [
    {
     "name": "stdout",
     "output_type": "stream",
     "text": [
      "\u001b[1m\u001b[36mSaying goodbye in a friendly manner*********************************************\u001b[0m\n",
      "\u001b[0m\u001b[1m\u001b[34m* lab-dcs-1 ** changed : False *************************************************\u001b[0m\n",
      "\u001b[0m\u001b[1m\u001b[32mvvvv Saying goodbye in a friendly manner ** changed : False vvvvvvvvvvvvvvvvvvvv INFO\u001b[0m\n",
      "\u001b[0mlab-dcs-1 says goodbye!\u001b[0m\n",
      "\u001b[0m\u001b[1m\u001b[32m^^^^ END Saying goodbye in a friendly manner ^^^^^^^^^^^^^^^^^^^^^^^^^^^^^^^^^^^\u001b[0m\n",
      "\u001b[0m\u001b[1m\u001b[34m* lab-dcs-2 ** changed : False *************************************************\u001b[0m\n",
      "\u001b[0m\u001b[1m\u001b[32mvvvv Saying goodbye in a friendly manner ** changed : False vvvvvvvvvvvvvvvvvvvv INFO\u001b[0m\n",
      "\u001b[0mlab-dcs-2 says goodbye!\u001b[0m\n",
      "\u001b[0m\u001b[1m\u001b[32m^^^^ END Saying goodbye in a friendly manner ^^^^^^^^^^^^^^^^^^^^^^^^^^^^^^^^^^^\u001b[0m\n",
      "\u001b[0m\u001b[1m\u001b[34m* lab-mlx-1 ** changed : False *************************************************\u001b[0m\n",
      "\u001b[0m\u001b[1m\u001b[32mvvvv Saying goodbye in a friendly manner ** changed : False vvvvvvvvvvvvvvvvvvvv INFO\u001b[0m\n",
      "\u001b[0mlab-mlx-1 says goodbye!\u001b[0m\n",
      "\u001b[0m\u001b[1m\u001b[32m^^^^ END Saying goodbye in a friendly manner ^^^^^^^^^^^^^^^^^^^^^^^^^^^^^^^^^^^\u001b[0m\n",
      "\u001b[0m\u001b[1m\u001b[34m* lab-qfx-1 ** changed : False *************************************************\u001b[0m\n",
      "\u001b[0m\u001b[1m\u001b[32mvvvv Saying goodbye in a friendly manner ** changed : False vvvvvvvvvvvvvvvvvvvv INFO\u001b[0m\n",
      "\u001b[0mlab-qfx-1 says goodbye!\u001b[0m\n",
      "\u001b[0m\u001b[1m\u001b[32m^^^^ END Saying goodbye in a friendly manner ^^^^^^^^^^^^^^^^^^^^^^^^^^^^^^^^^^^\u001b[0m\n",
      "\u001b[0m\u001b[1m\u001b[34m* lab-qfx-2 ** changed : False *************************************************\u001b[0m\n",
      "\u001b[0m\u001b[1m\u001b[32mvvvv Saying goodbye in a friendly manner ** changed : False vvvvvvvvvvvvvvvvvvvv INFO\u001b[0m\n",
      "\u001b[0mlab-qfx-2 says goodbye!\u001b[0m\n",
      "\u001b[0m\u001b[1m\u001b[32m^^^^ END Saying goodbye in a friendly manner ^^^^^^^^^^^^^^^^^^^^^^^^^^^^^^^^^^^\u001b[0m\n",
      "\u001b[0m\u001b[1m\u001b[34m* lab-slx-1 ** changed : False *************************************************\u001b[0m\n",
      "\u001b[0m\u001b[1m\u001b[32mvvvv Saying goodbye in a friendly manner ** changed : False vvvvvvvvvvvvvvvvvvvv INFO\u001b[0m\n",
      "\u001b[0mlab-slx-1 says goodbye!\u001b[0m\n",
      "\u001b[0m\u001b[1m\u001b[32m^^^^ END Saying goodbye in a friendly manner ^^^^^^^^^^^^^^^^^^^^^^^^^^^^^^^^^^^\u001b[0m\n",
      "\u001b[0m\u001b[1m\u001b[34m* lab-slx-2 ** changed : False *************************************************\u001b[0m\n",
      "\u001b[0m\u001b[1m\u001b[32mvvvv Saying goodbye in a friendly manner ** changed : False vvvvvvvvvvvvvvvvvvvv INFO\u001b[0m\n",
      "\u001b[0mlab-slx-2 says goodbye!\u001b[0m\n",
      "\u001b[0m\u001b[1m\u001b[32m^^^^ END Saying goodbye in a friendly manner ^^^^^^^^^^^^^^^^^^^^^^^^^^^^^^^^^^^\u001b[0m\n",
      "\u001b[0m\u001b[1m\u001b[34m* lab-vdx ** changed : False ***************************************************\u001b[0m\n",
      "\u001b[0m\u001b[1m\u001b[32mvvvv Saying goodbye in a friendly manner ** changed : False vvvvvvvvvvvvvvvvvvvv INFO\u001b[0m\n",
      "\u001b[0mlab-vdx says goodbye!\u001b[0m\n",
      "\u001b[0m\u001b[1m\u001b[32m^^^^ END Saying goodbye in a friendly manner ^^^^^^^^^^^^^^^^^^^^^^^^^^^^^^^^^^^\u001b[0m\n",
      "\u001b[0m\u001b[1m\u001b[34m* ztp ** changed : False *******************************************************\u001b[0m\n",
      "\u001b[0m\u001b[1m\u001b[32mvvvv Saying goodbye in a friendly manner ** changed : False vvvvvvvvvvvvvvvvvvvv INFO\u001b[0m\n",
      "\u001b[0mztp says goodbye!\u001b[0m\n",
      "\u001b[0m\u001b[1m\u001b[32m^^^^ END Saying goodbye in a friendly manner ^^^^^^^^^^^^^^^^^^^^^^^^^^^^^^^^^^^\u001b[0m\n",
      "\u001b[0m"
     ]
    }
   ],
   "source": [
    "# Setting function to take in text\n",
    "def say(task: Task, text: str) -> Result:\n",
    "    return Result(\n",
    "        host=task.host,\n",
    "        result=f\"{task.host} says {text}\"\n",
    "    )\n",
    "result = nr.run(\n",
    "    name=\"Saying goodbye in a friendly manner\",\n",
    "    task=say,\n",
    "    text=\"goodbye!\")\n",
    "\n",
    "print_result(result)"
   ]
  },
  {
   "cell_type": "code",
   "execution_count": 107,
   "id": "personalized-algorithm",
   "metadata": {},
   "outputs": [
    {
     "name": "stdout",
     "output_type": "stream",
     "text": [
      "\u001b[1m\u001b[36mCounting to 5 while being very polite*******************************************\u001b[0m\n",
      "\u001b[0m\u001b[1m\u001b[34m* lab-dcs-1 ** changed : False *************************************************\u001b[0m\n",
      "\u001b[0m\u001b[1m\u001b[32mvvvv Counting to 5 while being very polite ** changed : False vvvvvvvvvvvvvvvvvv INFO\u001b[0m\n",
      "\u001b[0mlab-dcs-1 counted even times!\u001b[0m\n",
      "\u001b[0m\u001b[1m\u001b[32m---- Counting beans ** changed : False ----------------------------------------- INFO\u001b[0m\n",
      "\u001b[0m[0, 1, 2, 3, 4]\u001b[0m\n",
      "\u001b[0m\u001b[1m\u001b[32m---- We should say bye too ** changed : False ---------------------------------- INFO\u001b[0m\n",
      "\u001b[0mlab-dcs-1 says bye!\u001b[0m\n",
      "\u001b[0m\u001b[1m\u001b[32m^^^^ END Counting to 5 while being very polite ^^^^^^^^^^^^^^^^^^^^^^^^^^^^^^^^^\u001b[0m\n",
      "\u001b[0m\u001b[1m\u001b[34m* lab-dcs-2 ** changed : False *************************************************\u001b[0m\n",
      "\u001b[0m\u001b[1m\u001b[32mvvvv Counting to 5 while being very polite ** changed : False vvvvvvvvvvvvvvvvvv INFO\u001b[0m\n",
      "\u001b[0mlab-dcs-2 counted even times!\u001b[0m\n",
      "\u001b[0m\u001b[1m\u001b[32m---- Counting beans ** changed : False ----------------------------------------- INFO\u001b[0m\n",
      "\u001b[0m[0, 1, 2, 3, 4]\u001b[0m\n",
      "\u001b[0m\u001b[1m\u001b[32m---- We should say bye too ** changed : False ---------------------------------- INFO\u001b[0m\n",
      "\u001b[0mlab-dcs-2 says bye!\u001b[0m\n",
      "\u001b[0m\u001b[1m\u001b[32m^^^^ END Counting to 5 while being very polite ^^^^^^^^^^^^^^^^^^^^^^^^^^^^^^^^^\u001b[0m\n",
      "\u001b[0m\u001b[1m\u001b[34m* lab-mlx-1 ** changed : False *************************************************\u001b[0m\n",
      "\u001b[0m\u001b[1m\u001b[32mvvvv Counting to 5 while being very polite ** changed : False vvvvvvvvvvvvvvvvvv INFO\u001b[0m\n",
      "\u001b[0mlab-mlx-1 counted even times!\u001b[0m\n",
      "\u001b[0m\u001b[1m\u001b[32m---- Counting beans ** changed : False ----------------------------------------- INFO\u001b[0m\n",
      "\u001b[0m[0, 1, 2, 3, 4]\u001b[0m\n",
      "\u001b[0m\u001b[1m\u001b[32m---- We should say bye too ** changed : False ---------------------------------- INFO\u001b[0m\n",
      "\u001b[0mlab-mlx-1 says bye!\u001b[0m\n",
      "\u001b[0m\u001b[1m\u001b[32m^^^^ END Counting to 5 while being very polite ^^^^^^^^^^^^^^^^^^^^^^^^^^^^^^^^^\u001b[0m\n",
      "\u001b[0m\u001b[1m\u001b[34m* lab-qfx-1 ** changed : False *************************************************\u001b[0m\n",
      "\u001b[0m\u001b[1m\u001b[32mvvvv Counting to 5 while being very polite ** changed : False vvvvvvvvvvvvvvvvvv INFO\u001b[0m\n",
      "\u001b[0mlab-qfx-1 counted even times!\u001b[0m\n",
      "\u001b[0m\u001b[1m\u001b[32m---- Counting beans ** changed : False ----------------------------------------- INFO\u001b[0m\n",
      "\u001b[0m[0, 1, 2, 3, 4]\u001b[0m\n",
      "\u001b[0m\u001b[1m\u001b[32m---- We should say bye too ** changed : False ---------------------------------- INFO\u001b[0m\n",
      "\u001b[0mlab-qfx-1 says bye!\u001b[0m\n",
      "\u001b[0m\u001b[1m\u001b[32m^^^^ END Counting to 5 while being very polite ^^^^^^^^^^^^^^^^^^^^^^^^^^^^^^^^^\u001b[0m\n",
      "\u001b[0m\u001b[1m\u001b[34m* lab-qfx-2 ** changed : False *************************************************\u001b[0m\n",
      "\u001b[0m\u001b[1m\u001b[32mvvvv Counting to 5 while being very polite ** changed : False vvvvvvvvvvvvvvvvvv INFO\u001b[0m\n",
      "\u001b[0mlab-qfx-2 counted even times!\u001b[0m\n",
      "\u001b[0m\u001b[1m\u001b[32m---- Counting beans ** changed : False ----------------------------------------- INFO\u001b[0m\n",
      "\u001b[0m[0, 1, 2, 3, 4]\u001b[0m\n",
      "\u001b[0m\u001b[1m\u001b[32m---- We should say bye too ** changed : False ---------------------------------- INFO\u001b[0m\n",
      "\u001b[0mlab-qfx-2 says bye!\u001b[0m\n",
      "\u001b[0m\u001b[1m\u001b[32m^^^^ END Counting to 5 while being very polite ^^^^^^^^^^^^^^^^^^^^^^^^^^^^^^^^^\u001b[0m\n",
      "\u001b[0m\u001b[1m\u001b[34m* lab-slx-1 ** changed : False *************************************************\u001b[0m\n",
      "\u001b[0m\u001b[1m\u001b[32mvvvv Counting to 5 while being very polite ** changed : False vvvvvvvvvvvvvvvvvv INFO\u001b[0m\n",
      "\u001b[0mlab-slx-1 counted even times!\u001b[0m\n",
      "\u001b[0m\u001b[1m\u001b[32m---- Counting beans ** changed : False ----------------------------------------- INFO\u001b[0m\n",
      "\u001b[0m[0, 1, 2, 3, 4]\u001b[0m\n",
      "\u001b[0m\u001b[1m\u001b[32m---- We should say bye too ** changed : False ---------------------------------- INFO\u001b[0m\n",
      "\u001b[0mlab-slx-1 says bye!\u001b[0m\n",
      "\u001b[0m\u001b[1m\u001b[32m^^^^ END Counting to 5 while being very polite ^^^^^^^^^^^^^^^^^^^^^^^^^^^^^^^^^\u001b[0m\n",
      "\u001b[0m\u001b[1m\u001b[34m* lab-slx-2 ** changed : False *************************************************\u001b[0m\n",
      "\u001b[0m\u001b[1m\u001b[32mvvvv Counting to 5 while being very polite ** changed : False vvvvvvvvvvvvvvvvvv INFO\u001b[0m\n",
      "\u001b[0mlab-slx-2 counted even times!\u001b[0m\n",
      "\u001b[0m\u001b[1m\u001b[32m---- Counting beans ** changed : False ----------------------------------------- INFO\u001b[0m\n",
      "\u001b[0m[0, 1, 2, 3, 4]\u001b[0m\n",
      "\u001b[0m\u001b[1m\u001b[32m---- We should say bye too ** changed : False ---------------------------------- INFO\u001b[0m\n",
      "\u001b[0mlab-slx-2 says bye!\u001b[0m\n",
      "\u001b[0m\u001b[1m\u001b[32m^^^^ END Counting to 5 while being very polite ^^^^^^^^^^^^^^^^^^^^^^^^^^^^^^^^^\u001b[0m\n",
      "\u001b[0m\u001b[1m\u001b[34m* lab-vdx ** changed : False ***************************************************\u001b[0m\n",
      "\u001b[0m\u001b[1m\u001b[32mvvvv Counting to 5 while being very polite ** changed : False vvvvvvvvvvvvvvvvvv INFO\u001b[0m\n",
      "\u001b[0mlab-vdx counted even times!\u001b[0m\n",
      "\u001b[0m\u001b[1m\u001b[32m---- Counting beans ** changed : False ----------------------------------------- INFO\u001b[0m\n",
      "\u001b[0m[0, 1, 2, 3, 4]\u001b[0m\n",
      "\u001b[0m\u001b[1m\u001b[32m---- We should say bye too ** changed : False ---------------------------------- INFO\u001b[0m\n",
      "\u001b[0mlab-vdx says bye!\u001b[0m\n",
      "\u001b[0m\u001b[1m\u001b[32m^^^^ END Counting to 5 while being very polite ^^^^^^^^^^^^^^^^^^^^^^^^^^^^^^^^^\u001b[0m\n",
      "\u001b[0m\u001b[1m\u001b[34m* ztp ** changed : False *******************************************************\u001b[0m\n",
      "\u001b[0m\u001b[1m\u001b[32mvvvv Counting to 5 while being very polite ** changed : False vvvvvvvvvvvvvvvvvv INFO\u001b[0m\n",
      "\u001b[0mztp counted even times!\u001b[0m\n",
      "\u001b[0m\u001b[1m\u001b[32m---- Counting beans ** changed : False ----------------------------------------- INFO\u001b[0m\n",
      "\u001b[0m[0, 1, 2, 3, 4]\u001b[0m\n",
      "\u001b[0m\u001b[1m\u001b[32m---- We should say bye too ** changed : False ---------------------------------- INFO\u001b[0m\n",
      "\u001b[0mztp says bye!\u001b[0m\n",
      "\u001b[0m\u001b[1m\u001b[32m^^^^ END Counting to 5 while being very polite ^^^^^^^^^^^^^^^^^^^^^^^^^^^^^^^^^\u001b[0m\n",
      "\u001b[0m"
     ]
    }
   ],
   "source": [
    "def count(task: Task, number: int) -> Result:\n",
    "    return Result(\n",
    "        host=task.host,\n",
    "        result=f\"{[n for n in range(0, number)]}\"\n",
    "    )\n",
    "\n",
    "def greet_and_count(task: Task, number: int) -> Result:\n",
    "    task.run(\n",
    "        name=\"Counting beans\",\n",
    "        task=count,\n",
    "        number=number,\n",
    "    )\n",
    "    task.run(\n",
    "        name=\"We should say bye too\",\n",
    "        task=say,\n",
    "        text=\"bye!\",\n",
    "    )\n",
    "\n",
    "    # let's inform if we counted even or odd times\n",
    "    even_or_odds = \"even\" if number % 2 == 1 else \"odd\"\n",
    "    return Result(\n",
    "        host=task.host,\n",
    "        result=f\"{task.host} counted {even_or_odds} times!\",\n",
    "    )\n",
    "\n",
    "result = nr.run(\n",
    "    name=\"Counting to 5 while being very polite\",\n",
    "    task=greet_and_count,\n",
    "    number=5,\n",
    ")\n",
    "print_result(result)"
   ]
  },
  {
   "cell_type": "code",
   "execution_count": 99,
   "id": "tested-description",
   "metadata": {},
   "outputs": [
    {
     "name": "stdout",
     "output_type": "stream",
     "text": [
      "\u001b[1m\u001b[36mnapalm_cli**********************************************************************\u001b[0m\n",
      "\u001b[0m"
     ]
    }
   ],
   "source": [
    "# importing necessary modules to filter and send show command\n",
    "from nornir.core.filter import F\n",
    "from nornir_napalm.plugins.tasks import napalm_cli\n",
    "\n",
    "devices_junos_eos = nr.filter(F(platform='junos') | F(platform='eos'))\n",
    "\n",
    "# run the following command\n",
    "result = devices_junos_eos.run(napalm_cli, commands=['show version'])\n",
    "\n",
    "print_result(result)"
   ]
  },
  {
   "cell_type": "code",
   "execution_count": 93,
   "id": "apart-promise",
   "metadata": {
    "scrolled": true
   },
   "outputs": [
    {
     "name": "stdout",
     "output_type": "stream",
     "text": [
      "\u001b[1m\u001b[36mnapalm_get**********************************************************************\u001b[0m\n",
      "\u001b[0m\u001b[1m\u001b[34m* lab-dcs-1 ** changed : False *************************************************\u001b[0m\n",
      "\u001b[0m\u001b[1m\u001b[32mvvvv napalm_get ** changed : False vvvvvvvvvvvvvvvvvvvvvvvvvvvvvvvvvvvvvvvvvvvvv INFO\u001b[0m\n",
      "\u001b[0m{\u001b[0m \u001b[0m'arp_table'\u001b[0m: \u001b[0m[\u001b[0m \u001b[0m\u001b[0m{\u001b[0m \u001b[0m'age'\u001b[0m: \u001b[0m0.0\u001b[0m,\n",
      "                   \u001b[0m'interface'\u001b[0m: \u001b[0m'Management1'\u001b[0m,\n",
      "                   \u001b[0m'ip'\u001b[0m: \u001b[0m'10.198.64.1'\u001b[0m,\n",
      "                   \u001b[0m'mac'\u001b[0m: \u001b[0m'00:31:46:15:D7:F0'\u001b[0m}\u001b[0m]\u001b[0m}\u001b[0m\n",
      "\u001b[0m\u001b[1m\u001b[32m^^^^ END napalm_get ^^^^^^^^^^^^^^^^^^^^^^^^^^^^^^^^^^^^^^^^^^^^^^^^^^^^^^^^^^^^\u001b[0m\n",
      "\u001b[0m\u001b[1m\u001b[34m* lab-dcs-2 ** changed : False *************************************************\u001b[0m\n",
      "\u001b[0m\u001b[1m\u001b[32mvvvv napalm_get ** changed : False vvvvvvvvvvvvvvvvvvvvvvvvvvvvvvvvvvvvvvvvvvvvv INFO\u001b[0m\n",
      "\u001b[0m{\u001b[0m \u001b[0m'arp_table'\u001b[0m: \u001b[0m[\u001b[0m \u001b[0m\u001b[0m{\u001b[0m \u001b[0m'age'\u001b[0m: \u001b[0m0.0\u001b[0m,\n",
      "                   \u001b[0m'interface'\u001b[0m: \u001b[0m'Management1'\u001b[0m,\n",
      "                   \u001b[0m'ip'\u001b[0m: \u001b[0m'10.198.64.1'\u001b[0m,\n",
      "                   \u001b[0m'mac'\u001b[0m: \u001b[0m'00:31:46:15:D7:F0'\u001b[0m}\u001b[0m]\u001b[0m}\u001b[0m\n",
      "\u001b[0m\u001b[1m\u001b[32m^^^^ END napalm_get ^^^^^^^^^^^^^^^^^^^^^^^^^^^^^^^^^^^^^^^^^^^^^^^^^^^^^^^^^^^^\u001b[0m\n",
      "\u001b[0m\u001b[1m\u001b[34m* lab-qfx-1 ** changed : False *************************************************\u001b[0m\n",
      "\u001b[0m\u001b[1m\u001b[32mvvvv napalm_get ** changed : False vvvvvvvvvvvvvvvvvvvvvvvvvvvvvvvvvvvvvvvvvvvvv INFO\u001b[0m\n",
      "\u001b[0m{\u001b[0m \u001b[0m'arp_table'\u001b[0m: \u001b[0m[\u001b[0m \u001b[0m\u001b[0m{\u001b[0m \u001b[0m'age'\u001b[0m: \u001b[0m1077.0\u001b[0m,\n",
      "                   \u001b[0m'interface'\u001b[0m: \u001b[0m'vme.0'\u001b[0m,\n",
      "                   \u001b[0m'ip'\u001b[0m: \u001b[0m'10.198.64.1'\u001b[0m,\n",
      "                   \u001b[0m'mac'\u001b[0m: \u001b[0m'00:31:46:15:D7:F0'\u001b[0m}\u001b[0m,\n",
      "                 \u001b[0m{\u001b[0m \u001b[0m'age'\u001b[0m: \u001b[0m1077.0\u001b[0m,\n",
      "                   \u001b[0m'interface'\u001b[0m: \u001b[0m'em2.32768'\u001b[0m,\n",
      "                   \u001b[0m'ip'\u001b[0m: \u001b[0m'192.168.1.1'\u001b[0m,\n",
      "                   \u001b[0m'mac'\u001b[0m: \u001b[0m'4C:16:FC:3E:BC:03'\u001b[0m}\u001b[0m]\u001b[0m}\u001b[0m\n",
      "\u001b[0m\u001b[1m\u001b[32m^^^^ END napalm_get ^^^^^^^^^^^^^^^^^^^^^^^^^^^^^^^^^^^^^^^^^^^^^^^^^^^^^^^^^^^^\u001b[0m\n",
      "\u001b[0m\u001b[1m\u001b[34m* lab-qfx-2 ** changed : False *************************************************\u001b[0m\n",
      "\u001b[0m\u001b[1m\u001b[32mvvvv napalm_get ** changed : False vvvvvvvvvvvvvvvvvvvvvvvvvvvvvvvvvvvvvvvvvvvvv INFO\u001b[0m\n",
      "\u001b[0m{\u001b[0m \u001b[0m'arp_table'\u001b[0m: \u001b[0m[\u001b[0m \u001b[0m\u001b[0m{\u001b[0m \u001b[0m'age'\u001b[0m: \u001b[0m1420.0\u001b[0m,\n",
      "                   \u001b[0m'interface'\u001b[0m: \u001b[0m'vme.0'\u001b[0m,\n",
      "                   \u001b[0m'ip'\u001b[0m: \u001b[0m'10.198.64.1'\u001b[0m,\n",
      "                   \u001b[0m'mac'\u001b[0m: \u001b[0m'00:31:46:15:D7:F0'\u001b[0m}\u001b[0m,\n",
      "                 \u001b[0m{\u001b[0m \u001b[0m'age'\u001b[0m: \u001b[0m363.0\u001b[0m,\n",
      "                   \u001b[0m'interface'\u001b[0m: \u001b[0m'em2.32768'\u001b[0m,\n",
      "                   \u001b[0m'ip'\u001b[0m: \u001b[0m'192.168.1.1'\u001b[0m,\n",
      "                   \u001b[0m'mac'\u001b[0m: \u001b[0m'4C:16:FC:3E:EF:43'\u001b[0m}\u001b[0m]\u001b[0m}\u001b[0m\n",
      "\u001b[0m\u001b[1m\u001b[32m^^^^ END napalm_get ^^^^^^^^^^^^^^^^^^^^^^^^^^^^^^^^^^^^^^^^^^^^^^^^^^^^^^^^^^^^\u001b[0m\n",
      "\u001b[0m"
     ]
    }
   ],
   "source": [
    "from nornir_napalm.plugins.tasks import napalm_get\n",
    "\n",
    "# Using napalm_get to retrieve facts data\n",
    "result = devices_junos_eos.run(napalm_get, getters=['arp_table'])\n",
    "\n",
    "print_result(result)"
   ]
  },
  {
   "cell_type": "code",
   "execution_count": 81,
   "id": "finnish-appendix",
   "metadata": {},
   "outputs": [
    {
     "name": "stdout",
     "output_type": "stream",
     "text": [
      "AnsibleInventory\u001b[0m\n",
      "\u001b[0m{'ztp': Host: ztp, 'lab-dcs-1': Host: lab-dcs-1, 'lab-dcs-2': Host: lab-dcs-2, 'lab-mlx-1': Host: lab-mlx-1, 'lab-qfx-1': Host: lab-qfx-1, 'lab-qfx-2': Host: lab-qfx-2, 'lab-vdx': Host: lab-vdx, 'lab-slx-1': Host: lab-slx-1, 'lab-slx-2': Host: lab-slx-2}\u001b[0m\n",
      "\u001b[0m"
     ]
    }
   ],
   "source": [
    "from nornir import InitNornir\n",
    "\n",
    "# Using Ansible Inventory plugin\n",
    "nr = InitNornir(config_file=\"config.yaml\")\n",
    "# print plugin\n",
    "print(nr.config.inventory.plugin)\n",
    "# print all hosts\n",
    "print(nr.inventory.hosts)"
   ]
  },
  {
   "cell_type": "code",
   "execution_count": 113,
   "id": "underlying-equality",
   "metadata": {},
   "outputs": [
    {
     "name": "stdout",
     "output_type": "stream",
     "text": [
      "\u001b[1m\u001b[36mGathering users from device*****************************************************\u001b[0m\n",
      "\u001b[0m"
     ]
    }
   ],
   "source": [
    "from nornir import InitNornir\n",
    "from nornir.core.filter import F\n",
    "from nornir.core.task import Task, Result\n",
    "from nornir_utils.plugins.functions import print_result\n",
    "from nornir_napalm.plugins.tasks import napalm_get\n",
    "\n",
    "# Setting function to take in text\n",
    "def get_facts(task: Task) -> Result:\n",
    "    facts = task.run(\n",
    "        task=napalm_get, getters=['facts']\n",
    "    )\n",
    "    return Result(\n",
    "        host=task.host,\n",
    "        result=facts\n",
    "    )\n",
    "\n",
    "nr = InitNornir(config_file=\"config.yaml\")\n",
    "\n",
    "# run only against junos or eos\n",
    "devices_junos_eos = nr.filter(F(platform=\"junos\") | F(platform=\"eos\"))\n",
    "\n",
    "result = devices_junos_eos.run(\n",
    "    name=\"Gathering users from device\",\n",
    "    task=get_facts\n",
    ")\n",
    "\n",
    "print_result(result)"
   ]
  },
  {
   "cell_type": "code",
   "execution_count": null,
   "id": "exempt-durham",
   "metadata": {},
   "outputs": [],
   "source": []
  }
 ],
 "metadata": {
  "kernelspec": {
   "display_name": "Python 3",
   "language": "python",
   "name": "python3"
  },
  "language_info": {
   "codemirror_mode": {
    "name": "ipython",
    "version": 3
   },
   "file_extension": ".py",
   "mimetype": "text/x-python",
   "name": "python",
   "nbconvert_exporter": "python",
   "pygments_lexer": "ipython3",
   "version": "3.6.8"
  }
 },
 "nbformat": 4,
 "nbformat_minor": 5
}
